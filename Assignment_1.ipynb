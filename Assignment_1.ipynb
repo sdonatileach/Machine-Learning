{
 "cells": [
  {
   "cell_type": "markdown",
   "metadata": {},
   "source": [
    "# Assignment 1 - Probability, Linear Algebra, & Computational Programming"
   ]
  },
  {
   "cell_type": "markdown",
   "metadata": {},
   "source": [
    "## Sydney Donati-Leach\n",
    "Netid: sd464\n",
    "\n",
    "Note: this assignment falls under collaboration Mode 2: Individual Assignment – Collaboration Permitted. Please refer to the syllabus for additional information."
   ]
  },
  {
   "cell_type": "markdown",
   "metadata": {},
   "source": [
    "Instructions for all assignments can be found [here](https://github.com/kylebradbury/ids705/blob/master/assignments/_Assignment%20Instructions.ipynb), and is also linked to from the [course syllabus](https://kylebradbury.github.io/ids705/index.html).\n",
    "\n",
    "Total points in the assignment add up to 90; an additional 10 points are allocated to presentation quality."
   ]
  },
  {
   "cell_type": "markdown",
   "metadata": {},
   "source": [
    "#  Learning Objectives\n",
    "The purpose of this assignment is to provide a refresher on fundamental concepts that we will use throughout this course, and provide an opportunity to develop skills in any of the related skills that may be unfamiliar to you. Through the course of completing this assignment, you will... \n",
    "- Refresh you knowledge of probability theory including properties of random variables, probability density functions,  cumulative distribution functions, and key statistics such as mean and variance.\n",
    "- Revisit common linear algebra and matrix operations and concepts such as matrix multiplication, inner and outer products, inverses, the Hadamard (element-wise) product, eigenvalues and eigenvectors, orthogonality, and symmetry.\n",
    "- Practice numerical programming, core to machine learning, by loading and filtering data, plotting data, vectorizing operations, profiling code speed, and debugging and optimizing performance. You will also practice computing probabilities based on simulation.\n",
    "- Develop or refresh your knowledge of Git version control, which will be a core tool used in the final project of this course\n",
    "- Apply your skills altogether through an exploratory data analysis to practice data cleaning, data manipulation, interpretation, and communication \n",
    "\n",
    "We will build on these concepts throughout the course, so use this assignment as a catalyst to deepen your knowledge and seek help with anything that is unfamiliar."
   ]
  },
  {
   "cell_type": "markdown",
   "metadata": {},
   "source": [
    "# Probability and Statistics Theory"
   ]
  },
  {
   "cell_type": "markdown",
   "metadata": {},
   "source": [
    "*Note: for all assignments, write out all equations and math using markdown and [LaTeX](https://tobi.oetiker.ch/lshort/lshort.pdf). For this assignment show ALL math work*"
   ]
  },
  {
   "cell_type": "markdown",
   "metadata": {},
   "source": [
    "## 1\n",
    "**[3 points]**  \n",
    "Let $f(x) = \\begin{cases}\n",
    "                0           & x < 0  \\\\\n",
    "                \\alpha x^2  & 0 \\leq x \\leq 2 \\\\\n",
    "                0           & 2 < x\n",
    "            \\end{cases}$\n",
    "            \n",
    "For what value of $\\alpha$ is $f(x)$ a valid probability density function?"
   ]
  },
  {
   "cell_type": "markdown",
   "metadata": {},
   "source": [
    "**ANSWER**"
   ]
  },
  {
   "cell_type": "markdown",
   "metadata": {},
   "source": [
    "A pdf should be set equal to 1 because it is a rule for _f(x)_. The integral upper bound will be set to 2 and the lower bound will be set to 0."
   ]
  },
  {
   "cell_type": "markdown",
   "metadata": {},
   "source": [
    "$  1 = \\int_0^2 \\alpha x^{2} dx $"
   ]
  },
  {
   "cell_type": "markdown",
   "metadata": {},
   "source": [
    "$ 1 = \\alpha\\tfrac{1}{3} x^3 \\Big|_0^2 $"
   ]
  },
  {
   "cell_type": "markdown",
   "metadata": {},
   "source": [
    "$ 1 = \\alpha\\tfrac{1}{3}2^3 - \\alpha\\tfrac{1}{3}0^3 $"
   ]
  },
  {
   "cell_type": "markdown",
   "metadata": {},
   "source": [
    "$ \\alpha = \\tfrac{3}{8} $"
   ]
  },
  {
   "cell_type": "markdown",
   "metadata": {},
   "source": [
    "## 2\n",
    "**[3 points]** What is the cumulative distribution function (CDF) that corresponds to the following probability distribution function? Please state the value of the CDF for all possible values of $x$.\n",
    "\n",
    "$f(x) = \\begin{cases}\n",
    "    \\frac{1}{3} & 0 < x < 3 \\\\\n",
    "    0           & \\text{otherwise}\n",
    "    \\end{cases}$"
   ]
  },
  {
   "cell_type": "markdown",
   "metadata": {},
   "source": [
    "**ANSWER**"
   ]
  },
  {
   "cell_type": "markdown",
   "metadata": {},
   "source": [
    "CDF $F(x) = \\int_{-\\infty}^x f(t)dt $\n",
    "\n",
    "There are three intervals as shown by pdf: $(-\\infty, 0], (0,3), [3, +\\infty) $\n",
    "\n",
    "so F(x) for $(-\\infty, 0]$ would be:\n",
    "$ F(x) = \\int_{-\\infty}^x 0 dt = 0$\n",
    "\n",
    "Analgously, F(x) at $[3, +\\infty)$ would also be 0. \n",
    "\n",
    "\n",
    "F(x) for the second interval would be:\n",
    "$ F(x) = \\int_{-\\infty}^0 0 dt + \\int_{0}^x \\dfrac{1}{3} dt  = \\tfrac{1}{3}x$\n",
    "\n",
    "$F(x) = \\begin{cases}\n",
    "    \\frac{1}{3}x & 0 < x < 3 \\\\\n",
    "    0           & \\text{otherwise}\n",
    "    \\end{cases}$"
   ]
  },
  {
   "cell_type": "markdown",
   "metadata": {},
   "source": [
    "## 3\n",
    "**[6 points]** For the probability distribution function for the random variable $X$,\n",
    "\n",
    "$f(x) = \\begin{cases}\n",
    "    \\frac{1}{3} & 0 < x < 3 \\\\\n",
    "    0           & \\text{otherwise}\n",
    "    \\end{cases}$\n",
    "    \n",
    "what is the (a) expected value and (b) variance of $X$. *Show all work*."
   ]
  },
  {
   "cell_type": "markdown",
   "metadata": {},
   "source": [
    "**ANSWER**"
   ]
  },
  {
   "cell_type": "markdown",
   "metadata": {},
   "source": [
    "(a)\n",
    "\n",
    "$E[X] = \\int_{-\\infty}^{+\\infty} xf(x) dx $\n",
    "\n",
    "$E[X] = \\int_{-\\infty}^0 0x dx + \\int_{0}^{3} \\tfrac{1}{3}x dx + \\int_{3}^{+\\infty} 0x dx$ \n",
    "\n",
    "$E[X]= \\tfrac{x^2}{6} \\Big|_0^3 $\n",
    "\n",
    "$E[X]= \\tfrac{3^2}{6} - \\tfrac{0^2}{6} $\n",
    "\n",
    "$E[X]= \\tfrac{3}{2}$"
   ]
  },
  {
   "cell_type": "markdown",
   "metadata": {},
   "source": [
    "(b)\n",
    "\n",
    "$Var(X) = E[X^2] - E[X]^2$\n",
    "\n",
    "$E[X^2] = \\int_{-\\infty}^0 0x^2 dx + \\int_{0}^{3} \\tfrac{1}{3}x^2 dx + \\int_{3}^{+\\infty} 0x^2 dx$ \n",
    "\n",
    "\n",
    "$E[X^2] = \\tfrac{1}{9}x^3 \\Big|_0^3$\n",
    "\n",
    "$E[X^2] = \\tfrac{1}{9}3^3 - \\tfrac{1}{9}0^3$\n",
    "\n",
    "$E[X^2] = 3$\n",
    "\n",
    "$Var(X) = 3 - \\tfrac{3}{2}^2$\n",
    "\n",
    "$Var(X) = \\tfrac{3}{4}$"
   ]
  },
  {
   "cell_type": "markdown",
   "metadata": {},
   "source": [
    "## 4\n",
    "**[6 points]** Consider the following table of data that provides the values of a discrete data vector $\\mathbf{x}$ of samples from the random variable $X$, where each entry in $\\mathbf{x}$ is given as $x_i$.\n",
    "\n",
    "*Table 1. Dataset N=5 observations*\n",
    "\n",
    "|        | $x_0$ | $x_1$ | $x_2$ | $x_3$ | $x_4$ |\n",
    "|------  |-------|-------|-------|-------|-------|\n",
    "|$\\textbf{x}$| 2     | 3     | 10    | -1    | -1    |\n",
    "\n",
    "What is the (a) mean and (b) variance of the data? \n",
    "\n",
    "*Show all work. Your answer should include the definition of mean and variance in the context of discrete data. In this case, use the sample variance since the sample size is quite small*"
   ]
  },
  {
   "cell_type": "markdown",
   "metadata": {},
   "source": [
    "**ANSWER**"
   ]
  },
  {
   "cell_type": "markdown",
   "metadata": {},
   "source": [
    "(a)\n",
    "\n",
    "$mean(X) = \\dfrac{\\sum_{i = 0}^{n-1} x_i}{n}$\n",
    "\n",
    "$mean(X) = \\dfrac{2 + 3 + 10 -1 -1}{5}$\n",
    "\n",
    "$mean(X) = \\dfrac{13}{5} = 2.6$"
   ]
  },
  {
   "cell_type": "markdown",
   "metadata": {},
   "source": [
    "(b)\n",
    "\n",
    "$var(X) = \\dfrac{\\sum_{i = 0}^{n-1}(x_i - \\bar x)^2}{n - 1}$\n",
    "\n",
    "$var(X) = \\dfrac{(2-2.6)^2 + (3-2.6)^2 + (10-2.6)^2 + (-1-2.6)^2 + (-1-2.6)^2}{4}$\n",
    "\n",
    "$var(X) \\approx 20.3$"
   ]
  },
  {
   "cell_type": "markdown",
   "metadata": {},
   "source": [
    "# Linear Algebra"
   ]
  },
  {
   "cell_type": "markdown",
   "metadata": {},
   "source": [
    "## 5\n",
    "**[14 points]** **Matrix manipulations and multiplication**. Machine learning involves working with many matrices, so this exercise will provide you with the opportunity to practice those skills.\n",
    "\n",
    "Let\n",
    "$\\mathbf{A} =  \\begin{bmatrix}\n",
    "1 & 2 & 3 \\\\\n",
    "2 & 4 & 5 \\\\\n",
    "3 & 5 & 6 \n",
    "\\end{bmatrix}$, $\\mathbf{b} =  \\begin{bmatrix}\n",
    "-1  \\\\\n",
    "3  \\\\\n",
    "8  \n",
    "\\end{bmatrix}$, $\\mathbf{c} =  \\begin{bmatrix}\n",
    "4  \\\\\n",
    "-3  \\\\\n",
    "6  \n",
    "\\end{bmatrix}$, and $\\mathbf{I} =  \\begin{bmatrix}\n",
    "1 & 0 & 0 \\\\\n",
    "0 & 1 & 0 \\\\\n",
    "0 & 0 & 1 \n",
    "\\end{bmatrix}$\n",
    "\n",
    "Compute the following (using Python) or indicate that it cannot be computed. Refer to numpy's tools for handling matrices.\n",
    "\n",
    "1. $\\mathbf{A}\\mathbf{A}$\n",
    "2. $\\mathbf{A}\\mathbf{A}^T$\n",
    "3. $\\mathbf{A}\\mathbf{b}$\n",
    "4. $\\mathbf{A}\\mathbf{b}^T$\n",
    "5. $\\mathbf{b}\\mathbf{A}$\n",
    "6. $\\mathbf{b}^T\\mathbf{A}$\n",
    "7. $\\mathbf{b}\\mathbf{b}$\n",
    "8. $\\mathbf{b}^T\\mathbf{b}$\n",
    "9. $\\mathbf{b}\\mathbf{b}^T$\n",
    "10. $\\mathbf{b} + \\mathbf{c}^T$\n",
    "11. $\\mathbf{b}^T\\mathbf{b}^T$\n",
    "12. $\\mathbf{A}^{-1}\\mathbf{b}$\n",
    "13. $\\mathbf{A}\\circ\\mathbf{A}$\n",
    "14. $\\mathbf{b}\\circ\\mathbf{c}$\n",
    "\n",
    "*Note: The element-wise (or Hadamard) product is the product of each element in one matrix with the corresponding element in another matrix, and is represented by the symbol \"$\\circ$\".*"
   ]
  },
  {
   "cell_type": "markdown",
   "metadata": {},
   "source": [
    "**ANSWER**"
   ]
  },
  {
   "cell_type": "code",
   "execution_count": 1,
   "metadata": {},
   "outputs": [],
   "source": [
    "import numpy as np"
   ]
  },
  {
   "cell_type": "code",
   "execution_count": 2,
   "metadata": {},
   "outputs": [],
   "source": [
    "A = np.array([[1,2,3],[2,4,5],[3,5,6]])\n",
    "b = np.array([[-1],[3],[8]])\n",
    "c = np.array([[4],[-3],[6]])\n",
    "I = np.array([[1,0,0],[0,1,0],[0,0,1]])"
   ]
  },
  {
   "cell_type": "markdown",
   "metadata": {},
   "source": [
    "1.)"
   ]
  },
  {
   "cell_type": "code",
   "execution_count": 3,
   "metadata": {},
   "outputs": [
    {
     "data": {
      "text/plain": [
       "array([[14, 25, 31],\n",
       "       [25, 45, 56],\n",
       "       [31, 56, 70]])"
      ]
     },
     "execution_count": 3,
     "metadata": {},
     "output_type": "execute_result"
    }
   ],
   "source": [
    "A @ A"
   ]
  },
  {
   "cell_type": "markdown",
   "metadata": {},
   "source": [
    "The matrix multiplication is possible because the shape of A is (3,3) so the inner dimensions match and A can be multiplied by itself."
   ]
  },
  {
   "cell_type": "markdown",
   "metadata": {},
   "source": [
    "2.)"
   ]
  },
  {
   "cell_type": "code",
   "execution_count": 4,
   "metadata": {},
   "outputs": [
    {
     "data": {
      "text/plain": [
       "array([[14, 25, 31],\n",
       "       [25, 45, 56],\n",
       "       [31, 56, 70]])"
      ]
     },
     "execution_count": 4,
     "metadata": {},
     "output_type": "execute_result"
    }
   ],
   "source": [
    "A @ A.T"
   ]
  },
  {
   "cell_type": "markdown",
   "metadata": {},
   "source": [
    "3.)"
   ]
  },
  {
   "cell_type": "code",
   "execution_count": 5,
   "metadata": {},
   "outputs": [
    {
     "data": {
      "text/plain": [
       "array([[29],\n",
       "       [50],\n",
       "       [60]])"
      ]
     },
     "execution_count": 5,
     "metadata": {},
     "output_type": "execute_result"
    }
   ],
   "source": [
    "A @ b"
   ]
  },
  {
   "cell_type": "markdown",
   "metadata": {},
   "source": [
    "4.)"
   ]
  },
  {
   "cell_type": "markdown",
   "metadata": {},
   "source": [
    "The matrix multiplication is *not* possible because the shape of A is (3,3) and the shape of b transpose is (1,3), so the inner dimensions don't match."
   ]
  },
  {
   "cell_type": "markdown",
   "metadata": {},
   "source": [
    "5.)"
   ]
  },
  {
   "cell_type": "markdown",
   "metadata": {},
   "source": [
    "The matrix multiplication is *not* possible because the shape of b is (3,1) and the shape of A is (3,3), so the inner dimensions don't match."
   ]
  },
  {
   "cell_type": "markdown",
   "metadata": {},
   "source": [
    "6.)"
   ]
  },
  {
   "cell_type": "code",
   "execution_count": 6,
   "metadata": {},
   "outputs": [
    {
     "data": {
      "text/plain": [
       "array([[29, 50, 60]])"
      ]
     },
     "execution_count": 6,
     "metadata": {},
     "output_type": "execute_result"
    }
   ],
   "source": [
    "b.T @ A"
   ]
  },
  {
   "cell_type": "markdown",
   "metadata": {},
   "source": [
    "7.)"
   ]
  },
  {
   "cell_type": "markdown",
   "metadata": {},
   "source": [
    "The matrix multiplication is *not* possible because the shape of b is (3,1), so the inner dimensions of itself don't match."
   ]
  },
  {
   "cell_type": "markdown",
   "metadata": {},
   "source": [
    "8.)"
   ]
  },
  {
   "cell_type": "code",
   "execution_count": 7,
   "metadata": {},
   "outputs": [
    {
     "data": {
      "text/plain": [
       "array([[74]])"
      ]
     },
     "execution_count": 7,
     "metadata": {},
     "output_type": "execute_result"
    }
   ],
   "source": [
    "b.T @ b"
   ]
  },
  {
   "cell_type": "markdown",
   "metadata": {},
   "source": [
    "9.)"
   ]
  },
  {
   "cell_type": "code",
   "execution_count": 8,
   "metadata": {},
   "outputs": [
    {
     "data": {
      "text/plain": [
       "array([[ 1, -3, -8],\n",
       "       [-3,  9, 24],\n",
       "       [-8, 24, 64]])"
      ]
     },
     "execution_count": 8,
     "metadata": {},
     "output_type": "execute_result"
    }
   ],
   "source": [
    "b @ b.T"
   ]
  },
  {
   "cell_type": "markdown",
   "metadata": {},
   "source": [
    "10.)"
   ]
  },
  {
   "cell_type": "code",
   "execution_count": 9,
   "metadata": {},
   "outputs": [
    {
     "data": {
      "text/plain": [
       "array([[ 3, -4,  5],\n",
       "       [ 7,  0,  9],\n",
       "       [12,  5, 14]])"
      ]
     },
     "execution_count": 9,
     "metadata": {},
     "output_type": "execute_result"
    }
   ],
   "source": [
    "b + c.T"
   ]
  },
  {
   "cell_type": "markdown",
   "metadata": {},
   "source": [
    "11.)"
   ]
  },
  {
   "cell_type": "markdown",
   "metadata": {},
   "source": [
    "The matrix multiplication is *not* possible because the shape of b transpose is (1,3), so the inner dimensions of itself don't match."
   ]
  },
  {
   "cell_type": "markdown",
   "metadata": {},
   "source": [
    "12.)"
   ]
  },
  {
   "cell_type": "code",
   "execution_count": 10,
   "metadata": {},
   "outputs": [
    {
     "data": {
      "text/plain": [
       "array([[ 6.],\n",
       "       [ 4.],\n",
       "       [-5.]])"
      ]
     },
     "execution_count": 10,
     "metadata": {},
     "output_type": "execute_result"
    }
   ],
   "source": [
    "np.linalg.inv(A) @ b"
   ]
  },
  {
   "cell_type": "markdown",
   "metadata": {},
   "source": [
    "13.)"
   ]
  },
  {
   "cell_type": "code",
   "execution_count": 11,
   "metadata": {},
   "outputs": [
    {
     "data": {
      "text/plain": [
       "array([[ 1,  4,  9],\n",
       "       [ 4, 16, 25],\n",
       "       [ 9, 25, 36]])"
      ]
     },
     "execution_count": 11,
     "metadata": {},
     "output_type": "execute_result"
    }
   ],
   "source": [
    "A * A"
   ]
  },
  {
   "cell_type": "markdown",
   "metadata": {},
   "source": [
    "14.)"
   ]
  },
  {
   "cell_type": "code",
   "execution_count": 12,
   "metadata": {},
   "outputs": [
    {
     "data": {
      "text/plain": [
       "array([[-4],\n",
       "       [-9],\n",
       "       [48]])"
      ]
     },
     "execution_count": 12,
     "metadata": {},
     "output_type": "execute_result"
    }
   ],
   "source": [
    "b * c"
   ]
  },
  {
   "cell_type": "markdown",
   "metadata": {},
   "source": [
    "## 6\n",
    "**[8 points]** **Eigenvectors and eigenvalues**. Eigenvectors and eigenvalues are useful for some machine learning algorithms, but the concepts take time to solidly grasp. They are used extensively in machine learning and in this course we will encounter them in relation to Principal Components Analysis (PCA), clustering algorithms, For an intuitive review of these concepts, explore this [interactive website at Setosa.io](http://setosa.io/ev/eigenvectors-and-eigenvalues/). Also, the series of linear algebra videos by Grant Sanderson of 3Brown1Blue are excellent and can be viewed on youtube [here](https://www.youtube.com/playlist?list=PLZHQObOWTQDPD3MizzM2xVFitgF8hE_ab). For these questions, numpy may once again be helpful.\n",
    "\n",
    "1. Calculate the eigenvalues and corresponding eigenvectors of matrix $\\mathbf{A}$ above, from the last question.\n",
    "2. Choose one of the eigenvector/eigenvalue pairs, $\\mathbf{v}$ and $\\lambda$, and show that $\\mathbf{A} \\mathbf{v} = \\lambda \\mathbf{v}$. This relationship extends to higher orders: $\\mathbf{A} \\mathbf{A} \\mathbf{v} = \\lambda^2 \\mathbf{v}$\n",
    "3. Show that the eigenvectors are orthogonal to one another (e.g. their inner product is zero). This is true for eigenvectors from real, symmetric matrices. In three dimensions or less, this means that the eigenvectors are perpendicular to each other. Typically we use the orthogonal basis of our standard x, y, and z, Cartesian coordinates, which allows us, if we combine them linearly, to represent any point in a 3D space. But any three orthogonal vectors can do the same. We will see this property is used in PCA to identify the dimensions of greatest variation in our data when we discuss dimensionality reduction."
   ]
  },
  {
   "cell_type": "markdown",
   "metadata": {},
   "source": [
    "1.)"
   ]
  },
  {
   "cell_type": "code",
   "execution_count": 13,
   "metadata": {},
   "outputs": [],
   "source": [
    "from numpy.linalg import eig"
   ]
  },
  {
   "cell_type": "code",
   "execution_count": 14,
   "metadata": {},
   "outputs": [
    {
     "name": "stdout",
     "output_type": "stream",
     "text": [
      "E-values: [11.34481428 -0.51572947  0.17091519]\n",
      "E-vectors: [[-0.32798528 -0.73697623  0.59100905]\n",
      " [-0.59100905 -0.32798528 -0.73697623]\n",
      " [-0.73697623  0.59100905  0.32798528]]\n"
     ]
    }
   ],
   "source": [
    "w,v=eig(A)\n",
    "print('E-values:', w)\n",
    "print('E-vectors:', v)"
   ]
  },
  {
   "cell_type": "markdown",
   "metadata": {},
   "source": [
    "2.)"
   ]
  },
  {
   "cell_type": "code",
   "execution_count": 15,
   "metadata": {},
   "outputs": [
    {
     "data": {
      "text/plain": [
       "array([[-3.72093206,  0.38008036,  0.10101242],\n",
       "       [-6.70488789,  0.16915167, -0.12596043],\n",
       "       [-8.36085845, -0.30480078,  0.05605767]])"
      ]
     },
     "execution_count": 15,
     "metadata": {},
     "output_type": "execute_result"
    }
   ],
   "source": [
    "A @ v"
   ]
  },
  {
   "cell_type": "code",
   "execution_count": 16,
   "metadata": {},
   "outputs": [],
   "source": [
    "w = w[:,None]"
   ]
  },
  {
   "cell_type": "code",
   "execution_count": 17,
   "metadata": {},
   "outputs": [
    {
     "data": {
      "text/plain": [
       "array([[-3.23983928],\n",
       "       [-6.66169665],\n",
       "       [-8.60960157]])"
      ]
     },
     "execution_count": 17,
     "metadata": {},
     "output_type": "execute_result"
    }
   ],
   "source": [
    "v @ w"
   ]
  },
  {
   "cell_type": "markdown",
   "metadata": {},
   "source": [
    "We can see that $\\mathbf{A} \\mathbf{v} = \\lambda \\mathbf{v}$ where the first eigenvector/eigenvalue pair multiplied is the same as the first column of the A @ v resulting matrix above."
   ]
  },
  {
   "cell_type": "markdown",
   "metadata": {},
   "source": [
    "3.)"
   ]
  },
  {
   "cell_type": "code",
   "execution_count": 18,
   "metadata": {},
   "outputs": [
    {
     "data": {
      "text/plain": [
       "-1.6653345369377348e-16"
      ]
     },
     "execution_count": 18,
     "metadata": {},
     "output_type": "execute_result"
    }
   ],
   "source": [
    "np.dot(v[:,0],v[:,1])"
   ]
  },
  {
   "cell_type": "code",
   "execution_count": 19,
   "metadata": {},
   "outputs": [
    {
     "data": {
      "text/plain": [
       "-5.828670879282072e-16"
      ]
     },
     "execution_count": 19,
     "metadata": {},
     "output_type": "execute_result"
    }
   ],
   "source": [
    "np.dot(v[:,1],v[:,2])"
   ]
  },
  {
   "cell_type": "code",
   "execution_count": 20,
   "metadata": {},
   "outputs": [
    {
     "data": {
      "text/plain": [
       "-3.608224830031759e-16"
      ]
     },
     "execution_count": 20,
     "metadata": {},
     "output_type": "execute_result"
    }
   ],
   "source": [
    "np.dot(v[:,0],v[:,2])"
   ]
  },
  {
   "cell_type": "code",
   "execution_count": 21,
   "metadata": {},
   "outputs": [
    {
     "data": {
      "text/plain": [
       "array([[-0.32798528, -0.59100905, -0.73697623],\n",
       "       [-0.73697623, -0.32798528,  0.59100905],\n",
       "       [ 0.59100905, -0.73697623,  0.32798528]])"
      ]
     },
     "execution_count": 21,
     "metadata": {},
     "output_type": "execute_result"
    }
   ],
   "source": [
    "np.linalg.inv(v)"
   ]
  },
  {
   "cell_type": "code",
   "execution_count": 22,
   "metadata": {},
   "outputs": [
    {
     "data": {
      "text/plain": [
       "array([[-0.32798528, -0.59100905, -0.73697623],\n",
       "       [-0.73697623, -0.32798528,  0.59100905],\n",
       "       [ 0.59100905, -0.73697623,  0.32798528]])"
      ]
     },
     "execution_count": 22,
     "metadata": {},
     "output_type": "execute_result"
    }
   ],
   "source": [
    "v.T"
   ]
  },
  {
   "cell_type": "markdown",
   "metadata": {},
   "source": [
    "Each of the vectors' inner products are extremely small, or approximately zero, which proves the eigenvectors are orthogonal to one another.  Another method to prove this is if the inverse of the matrix equals the matrix transposed, which is also true in this case."
   ]
  },
  {
   "cell_type": "markdown",
   "metadata": {},
   "source": [
    "# Numerical Programming"
   ]
  },
  {
   "cell_type": "markdown",
   "metadata": {},
   "source": [
    "**ANSWER**"
   ]
  },
  {
   "cell_type": "markdown",
   "metadata": {},
   "source": [
    "## 7\n",
    "**[10 points]** Loading data and gathering insights from a real dataset\n",
    "\n",
    "In data science, we often need to have a sense of the idiosyncrasies of the data, how they relate to the questions we are trying to answer, and to use that information to help us to determine what approach, such as machine learning, we may need to apply to achieve our goal. This exercise provides practice in exploring a dataset and answering question that might arise from applications related to the data.\n",
    "\n",
    "**Data**. The data for this problem can be found in the `data` subfolder in the `assignments` folder on [github](https://github.com/kylebradbury/ids705). The filename is `a1_egrid2016.xlsx`. This dataset is the Environmental Protection Agency's (EPA) [Emissions & Generation Resource Integrated Database (eGRID)](https://www.epa.gov/energy/emissions-generation-resource-integrated-database-egrid) containing information about all power plants in the United States, the amount of generation they produce, what fuel they use, the location of the plant, and many more quantities. We'll be using a subset of those data.\n",
    "\n",
    "The fields we'll be using include:\t\t\t\t\t\n",
    "    \n",
    "|field    |description|\n",
    "|:-----   |:-----|\n",
    "|SEQPLT16 |eGRID2016 Plant file sequence number (the index)| \n",
    "|PSTATABB |Plant state abbreviation|\n",
    "|PNAME    |Plant name |\n",
    "|LAT      |Plant latitude |\n",
    "|LON      |Plant longitude|\n",
    "|PLPRMFL  |Plant primary fuel |\n",
    "|CAPFAC   |Plant capacity factor |\n",
    "|NAMEPCAP |Plant nameplate capacity (Megawatts MW)|\n",
    "|PLNGENAN |Plant annual net generation (Megawatt-hours MWh)|\n",
    "|PLCO2EQA |Plant annual CO2 equivalent emissions (tons)|\n",
    "\n",
    "For more details on the data, you can refer to the [eGrid technical documents](https://www.epa.gov/sites/default/files/2021-02/documents/egrid2019_technical_guide.pdf). For example, you may want to review page 45 and the section \"Plant Primary Fuel (PLPRMFL)\", which gives the full names of the fuel types including WND for wind, NG for natural gas, BIT for Bituminous coal, etc.\n",
    "\n",
    "There also are a couple of \"gotchas\" to watch out for with this dataset:\n",
    "- The headers are on the second row and you'll want to ignore the first row (they're more detailed descriptions of the headers).\n",
    "- NaN values represent blanks in the data. These will appear regularly in real-world data, so getting experience working with it will be important.\n",
    "\n",
    "**Your objective**. For this dataset, your goal is answer the following questions about electricity generation in the United States:\n",
    "\n",
    "**(a)** Which plant has generated the most energy (measured in MWh)?\n",
    "\n",
    "**(b)** What is the name of the northern-most power plant in the United States?\n",
    "\n",
    "**(c)** What is the state where the northern-most power plant in the United States is located?\n",
    "\n",
    "**(d)** Plot a bar plot showing the amount of energy produced by each fuel type across all plants. \n",
    "\n",
    "**(e)** From the plot in (d), which fuel for generation produces the most energy (MWh) in the United States?"
   ]
  },
  {
   "cell_type": "markdown",
   "metadata": {},
   "source": [
    "**ANSWER**"
   ]
  },
  {
   "cell_type": "code",
   "execution_count": 23,
   "metadata": {},
   "outputs": [],
   "source": [
    "import pandas as pd"
   ]
  },
  {
   "cell_type": "code",
   "execution_count": 24,
   "metadata": {},
   "outputs": [],
   "source": [
    "plants =  pd.read_csv(\"/mnt/c/Users/sdona/Documents/Duke/22Spring/705IDS/Assignments/01Assignment/a1_egrid2016.csv\")"
   ]
  },
  {
   "cell_type": "markdown",
   "metadata": {},
   "source": [
    "(a)"
   ]
  },
  {
   "cell_type": "code",
   "execution_count": 25,
   "metadata": {},
   "outputs": [
    {
     "data": {
      "text/plain": [
       "SEQPLT16           391\n",
       "PSTATABB            AZ\n",
       "PNAME       Palo Verde\n",
       "LAT            33.3881\n",
       "LON          -112.8617\n",
       "PLPRMFL            NUC\n",
       "CAPFAC           0.878\n",
       "NAMEPCAP       4,209.6\n",
       "PLNGENAN      32377477\n",
       "PLCO2EQA             0\n",
       "Name: 0, dtype: object"
      ]
     },
     "execution_count": 25,
     "metadata": {},
     "output_type": "execute_result"
    }
   ],
   "source": [
    "# replace null values with 0\n",
    "plants[\"PLNGENAN\"].replace(np.NaN, 0, inplace= True)\n",
    "\n",
    "# convert to a string\n",
    "plants[\"PLNGENAN\"] = plants[\"PLNGENAN\"].astype(str)\n",
    "\n",
    "# remove commas\n",
    "plants[\"PLNGENAN\"] = plants[\"PLNGENAN\"].str.replace(',', '')\n",
    "\n",
    "# convert to integer\n",
    "plants[\"PLNGENAN\"] = plants[\"PLNGENAN\"].astype(int)\n",
    "\n",
    "# find the plant with the maximum amount by indexing\n",
    "plants.iloc[plants[\"PLNGENAN\"].idxmax()]"
   ]
  },
  {
   "cell_type": "markdown",
   "metadata": {},
   "source": [
    "(b)"
   ]
  },
  {
   "cell_type": "code",
   "execution_count": 26,
   "metadata": {},
   "outputs": [
    {
     "data": {
      "text/plain": [
       "'Barrow'"
      ]
     },
     "execution_count": 26,
     "metadata": {},
     "output_type": "execute_result"
    }
   ],
   "source": [
    "plants[\"PNAME\"].iloc[plants[\"LAT\"].idxmax()]"
   ]
  },
  {
   "cell_type": "markdown",
   "metadata": {},
   "source": [
    "(c)"
   ]
  },
  {
   "cell_type": "code",
   "execution_count": 27,
   "metadata": {},
   "outputs": [
    {
     "data": {
      "text/plain": [
       "'AK'"
      ]
     },
     "execution_count": 27,
     "metadata": {},
     "output_type": "execute_result"
    }
   ],
   "source": [
    "plants[\"PSTATABB\"].iloc[plants[\"LAT\"].idxmax()]"
   ]
  },
  {
   "cell_type": "markdown",
   "metadata": {},
   "source": [
    "(d)"
   ]
  },
  {
   "cell_type": "code",
   "execution_count": 28,
   "metadata": {},
   "outputs": [],
   "source": [
    "energy = plants.groupby(\"PLPRMFL\", as_index=False).sum()"
   ]
  },
  {
   "cell_type": "code",
   "execution_count": 29,
   "metadata": {},
   "outputs": [],
   "source": [
    "import altair as alt"
   ]
  },
  {
   "cell_type": "code",
   "execution_count": 30,
   "metadata": {},
   "outputs": [
    {
     "data": {
      "text/html": [
       "\n",
       "<div id=\"altair-viz-36cac2a1f5a046a89343cfc7184583dc\"></div>\n",
       "<script type=\"text/javascript\">\n",
       "  (function(spec, embedOpt){\n",
       "    let outputDiv = document.currentScript.previousElementSibling;\n",
       "    if (outputDiv.id !== \"altair-viz-36cac2a1f5a046a89343cfc7184583dc\") {\n",
       "      outputDiv = document.getElementById(\"altair-viz-36cac2a1f5a046a89343cfc7184583dc\");\n",
       "    }\n",
       "    const paths = {\n",
       "      \"vega\": \"https://cdn.jsdelivr.net/npm//vega@5?noext\",\n",
       "      \"vega-lib\": \"https://cdn.jsdelivr.net/npm//vega-lib?noext\",\n",
       "      \"vega-lite\": \"https://cdn.jsdelivr.net/npm//vega-lite@4.8.1?noext\",\n",
       "      \"vega-embed\": \"https://cdn.jsdelivr.net/npm//vega-embed@6?noext\",\n",
       "    };\n",
       "\n",
       "    function loadScript(lib) {\n",
       "      return new Promise(function(resolve, reject) {\n",
       "        var s = document.createElement('script');\n",
       "        s.src = paths[lib];\n",
       "        s.async = true;\n",
       "        s.onload = () => resolve(paths[lib]);\n",
       "        s.onerror = () => reject(`Error loading script: ${paths[lib]}`);\n",
       "        document.getElementsByTagName(\"head\")[0].appendChild(s);\n",
       "      });\n",
       "    }\n",
       "\n",
       "    function showError(err) {\n",
       "      outputDiv.innerHTML = `<div class=\"error\" style=\"color:red;\">${err}</div>`;\n",
       "      throw err;\n",
       "    }\n",
       "\n",
       "    function displayChart(vegaEmbed) {\n",
       "      vegaEmbed(outputDiv, spec, embedOpt)\n",
       "        .catch(err => showError(`Javascript Error: ${err.message}<br>This usually means there's a typo in your chart specification. See the javascript console for the full traceback.`));\n",
       "    }\n",
       "\n",
       "    if(typeof define === \"function\" && define.amd) {\n",
       "      requirejs.config({paths});\n",
       "      require([\"vega-embed\"], displayChart, err => showError(`Error loading script: ${err.message}`));\n",
       "    } else if (typeof vegaEmbed === \"function\") {\n",
       "      displayChart(vegaEmbed);\n",
       "    } else {\n",
       "      loadScript(\"vega\")\n",
       "        .then(() => loadScript(\"vega-lite\"))\n",
       "        .then(() => loadScript(\"vega-embed\"))\n",
       "        .catch(showError)\n",
       "        .then(() => displayChart(vegaEmbed));\n",
       "    }\n",
       "  })({\"config\": {\"view\": {\"continuousWidth\": 400, \"continuousHeight\": 300}, \"axis\": {\"labelFontSize\": 10, \"titleFontSize\": 16}, \"title\": {\"fontSize\": 16}}, \"data\": {\"name\": \"data-bce33d660a58ac958dde105eda36c784\"}, \"mark\": \"bar\", \"encoding\": {\"x\": {\"type\": \"nominal\", \"axis\": {\"title\": \"Fuel Type\"}, \"field\": \"PLPRMFL\", \"sort\": \"-y\"}, \"y\": {\"type\": \"quantitative\", \"axis\": {\"title\": \"Energy Prodcued (MWh)\"}, \"field\": \"PLNGENAN\"}}, \"title\": \"Amount of Energy Produced by Each Fuel Type Across All Plants\", \"$schema\": \"https://vega.github.io/schema/vega-lite/v4.8.1.json\", \"datasets\": {\"data-bce33d660a58ac958dde105eda36c784\": [{\"PLPRMFL\": \"AB\", \"SEQPLT16\": 44879, \"LAT\": 387.936197, \"LON\": -1296.418619, \"CAPFAC\": 3.3757, \"PLNGENAN\": 941264}, {\"PLPRMFL\": \"BFG\", \"SEQPLT16\": 18655, \"LAT\": 160.646078, \"LON\": -363.441844, \"CAPFAC\": 1.1504, \"PLNGENAN\": 739680}, {\"PLPRMFL\": \"BIT\", \"SEQPLT16\": 1179418, \"LAT\": 7908.98293, \"LON\": -17747.790657999998, \"CAPFAC\": 53.9001, \"PLNGENAN\": 504919278}, {\"PLPRMFL\": \"BLQ\", \"SEQPLT16\": 357811, \"LAT\": 2811.04662, \"LON\": -6935.188828, \"CAPFAC\": 40.4521, \"PLNGENAN\": 26097115}, {\"PLPRMFL\": \"COG\", \"SEQPLT16\": 3811, \"LAT\": 29.9383, \"LON\": -89.97, \"CAPFAC\": 0.2801, \"PLNGENAN\": 13984}, {\"PLPRMFL\": \"DFO\", \"SEQPLT16\": 3909262, \"LAT\": 35114.967017, \"LON\": -80245.923919, \"CAPFAC\": 13.4289, \"PLNGENAN\": 3211069}, {\"PLPRMFL\": \"GEO\", \"SEQPLT16\": 279887, \"LAT\": 2892.646123, \"LON\": -9235.627353, \"CAPFAC\": 29.8384, \"PLNGENAN\": 15691631}, {\"PLPRMFL\": \"JF\", \"SEQPLT16\": 7203, \"LAT\": 81.64455000000001, \"LON\": -193.48875, \"CAPFAC\": 0.0046, \"PLNGENAN\": 5908}, {\"PLPRMFL\": \"KER\", \"SEQPLT16\": 85736, \"LAT\": 696.339917, \"LON\": -1274.439097, \"CAPFAC\": 0.0323, \"PLNGENAN\": 25861}, {\"PLPRMFL\": \"LFG\", \"SEQPLT16\": 2097452, \"LAT\": 15653.173479, \"LON\": -36361.652067, \"CAPFAC\": 206.3447, \"PLNGENAN\": 11090731}, {\"PLPRMFL\": \"LIG\", \"SEQPLT16\": 106149, \"LAT\": 643.875429, \"LON\": -1629.843488, \"CAPFAC\": 7.9957, \"PLNGENAN\": 62640953}, {\"PLPRMFL\": \"MSW\", \"SEQPLT16\": 364076, \"LAT\": 2791.504608, \"LON\": -5945.990193, \"CAPFAC\": 40.9065, \"PLNGENAN\": 14271134}, {\"PLPRMFL\": \"MWH\", \"SEQPLT16\": 271500, \"LAT\": 2574.643468, \"LON\": -6733.865173, \"CAPFAC\": 1.1184, \"PLNGENAN\": 98809}, {\"PLPRMFL\": \"NG\", \"SEQPLT16\": 9452364, \"LAT\": 72798.560684, \"LON\": -184627.421546, \"CAPFAC\": 409.9736, \"PLNGENAN\": 1314955596}, {\"PLPRMFL\": \"NUC\", \"SEQPLT16\": 346236, \"LAT\": 2474.381446, \"LON\": -5587.290452, \"CAPFAC\": 52.3813, \"PLNGENAN\": 812475761}, {\"PLPRMFL\": \"OBG\", \"SEQPLT16\": 386063, \"LAT\": 3703.0755050000002, \"LON\": -9690.605891, \"CAPFAC\": 33.778, \"PLNGENAN\": 1152140}, {\"PLPRMFL\": \"OBL\", \"SEQPLT16\": 8122, \"LAT\": 64.117389, \"LON\": -474.079211, \"CAPFAC\": 0.0379, \"PLNGENAN\": 37490}, {\"PLPRMFL\": \"OBS\", \"SEQPLT16\": 23979, \"LAT\": 204.74152700000002, \"LON\": -616.945724, \"CAPFAC\": 0.5003, \"PLNGENAN\": 103609}, {\"PLPRMFL\": \"OG\", \"SEQPLT16\": 136572, \"LAT\": 1052.190826, \"LON\": -2849.295916, \"CAPFAC\": 9.1998, \"PLNGENAN\": 19148180}, {\"PLPRMFL\": \"OTH\", \"SEQPLT16\": 23957, \"LAT\": 220.821645, \"LON\": -645.577555, \"CAPFAC\": 1.5074, \"PLNGENAN\": 146710}, {\"PLPRMFL\": \"PC\", \"SEQPLT16\": 75162, \"LAT\": 476.020188, \"LON\": -1215.320777, \"CAPFAC\": 4.2365, \"PLNGENAN\": 7235311}, {\"PLPRMFL\": \"PRG\", \"SEQPLT16\": 93557, \"LAT\": 661.708046, \"LON\": -1572.718456, \"CAPFAC\": 7.4819, \"PLNGENAN\": 9034182}, {\"PLPRMFL\": \"PUR\", \"SEQPLT16\": 44773, \"LAT\": 294.257587, \"LON\": -751.419305, \"CAPFAC\": 2.2283, \"PLNGENAN\": 602854}, {\"PLPRMFL\": \"RC\", \"SEQPLT16\": 246662, \"LAT\": 1773.572256, \"LON\": -4036.087022, \"CAPFAC\": 20.5328, \"PLNGENAN\": 225163760}, {\"PLPRMFL\": \"RFO\", \"SEQPLT16\": 134921, \"LAT\": 1017.6524019999999, \"LON\": -2807.8254389999997, \"CAPFAC\": 4.3009, \"PLNGENAN\": 16532319}, {\"PLPRMFL\": \"SGC\", \"SEQPLT16\": 3450, \"LAT\": 38.8067, \"LON\": -87.2472, \"CAPFAC\": 0.3721, \"PLNGENAN\": 3092547}, {\"PLPRMFL\": \"SLW\", \"SEQPLT16\": 6120, \"LAT\": 35.326111, \"LON\": -80.542222, \"CAPFAC\": 0.0592, \"PLNGENAN\": 985}, {\"PLPRMFL\": \"SUB\", \"SEQPLT16\": 845169, \"LAT\": 6306.400073, \"LON\": -15033.979113, \"CAPFAC\": 59.5154, \"PLNGENAN\": 471698446}, {\"PLPRMFL\": \"SUN\", \"SEQPLT16\": 10884357, \"LAT\": 92266.109613, \"LON\": -229592.02498, \"CAPFAC\": 307.1093, \"PLNGENAN\": 35354775}, {\"PLPRMFL\": \"TDF\", \"SEQPLT16\": 12699, \"LAT\": 115.745215, \"LON\": -234.900162, \"CAPFAC\": 0.2681, \"PLNGENAN\": 192779}, {\"PLPRMFL\": \"WAT\", \"SEQPLT16\": 7771860, \"LAT\": 62212.880261, \"LON\": -147899.473549, \"CAPFAC\": 518.5653, \"PLNGENAN\": 260778453}, {\"PLPRMFL\": \"WC\", \"SEQPLT16\": 163996, \"LAT\": 816.948856, \"LON\": -1641.254684, \"CAPFAC\": 10.1721, \"PLNGENAN\": 9384699}, {\"PLPRMFL\": \"WDL\", \"SEQPLT16\": 2340, \"LAT\": 30.6612, \"LON\": -81.473, \"CAPFAC\": 0.4564, \"PLNGENAN\": 217901}, {\"PLPRMFL\": \"WDS\", \"SEQPLT16\": 737235, \"LAT\": 5955.725578, \"LON\": -14164.585237, \"CAPFAC\": 56.344, \"PLNGENAN\": 16464767}, {\"PLPRMFL\": \"WH\", \"SEQPLT16\": 145735, \"LAT\": 1213.4190899999999, \"LON\": -3417.43928, \"CAPFAC\": 14.5849, \"PLNGENAN\": 3981384}, {\"PLPRMFL\": \"WND\", \"SEQPLT16\": 6609363, \"LAT\": 48148.524672, \"LON\": -119954.938357, \"CAPFAC\": 292.0663, \"PLNGENAN\": 226828838}, {\"PLPRMFL\": \"WO\", \"SEQPLT16\": 11072, \"LAT\": 210.524747, \"LON\": -924.65323, \"CAPFAC\": 3.1463, \"PLNGENAN\": 991982}]}}, {\"mode\": \"vega-lite\"});\n",
       "</script>"
      ],
      "text/plain": [
       "alt.Chart(...)"
      ]
     },
     "execution_count": 30,
     "metadata": {},
     "output_type": "execute_result"
    }
   ],
   "source": [
    "alt.Chart(energy, title = 'Amount of Energy Produced by Each Fuel Type Across All Plants').mark_bar().encode(\n",
    "    x=alt.X(\"PLPRMFL\", sort= '-y', axis=alt.Axis(title='Fuel Type')),\n",
    "    y=alt.Y(\"PLNGENAN\", axis=alt.Axis(title='Energy Prodcued (MWh)'))\n",
    ").configure_axis(\n",
    "    labelFontSize=10,\n",
    "    titleFontSize=16\n",
    ").configure_title(\n",
    "    fontSize= 16\n",
    ")"
   ]
  },
  {
   "cell_type": "markdown",
   "metadata": {},
   "source": [
    "(e)"
   ]
  },
  {
   "cell_type": "markdown",
   "metadata": {},
   "source": [
    "Natural gas (NG) produces the most energy (MWh) in the United States."
   ]
  },
  {
   "cell_type": "markdown",
   "metadata": {},
   "source": [
    "## 8\n",
    "**[6 points]** *Vectorization*. When we first learn to code and think about iterating over an array, we often use loops. If implemented correctly, that does the trick. In machine learning, we iterate over so much data that those loops can lead to significant slow downs if they are not computationally efficient. In Python, vectorizing code and relying on matrix operations with efficient tools like numpy is typically the faster approach. Of course, numpy relies on loops to complete the computation, but this is at a lower level of programming (typically in C), and therefore is much more efficient. This exercise will explore the benefits of vectorization. Since many machine learning techniques rely on matrix operations, it's helpful to begin thinking about implementing algorithms using vector forms.\n",
    "\n",
    "Begin by creating an array of 10 million random numbers using the numpy `random.randn` module. Compute the sum of the squares of those random numbers first in a for loop, then using Numpy's `dot` module to perform an inner (dot) product. Time how long it takes to compute each and report the results and report the output. How many times faster is the vectorized code than the for loop approach? (Note - your results may vary from run to run).\n",
    "\n",
    "Your output should use the `print()` function as follows (where the # symbols represent your answers, to a reasonable precision of 4-5 significant figures):\n",
    "\n",
    "`Time [sec] (non-vectorized): ######`\n",
    "\n",
    "`Time [sec] (vectorized):     ######`\n",
    "\n",
    "`The vectorized code is ##### times faster than the nonvectorized code`"
   ]
  },
  {
   "cell_type": "markdown",
   "metadata": {},
   "source": [
    "**ANSWER**"
   ]
  },
  {
   "cell_type": "code",
   "execution_count": 31,
   "metadata": {},
   "outputs": [],
   "source": [
    "a = np.random.randn(10000000)"
   ]
  },
  {
   "cell_type": "code",
   "execution_count": 32,
   "metadata": {},
   "outputs": [],
   "source": [
    "import time"
   ]
  },
  {
   "cell_type": "code",
   "execution_count": 33,
   "metadata": {},
   "outputs": [
    {
     "name": "stdout",
     "output_type": "stream",
     "text": [
      "Time [sec] (non-vectorized): 4.877\n"
     ]
    }
   ],
   "source": [
    "start = time.time()\n",
    "\n",
    "s = 0\n",
    "for i in a:\n",
    "    s += i**2\n",
    "\n",
    "end = time.time()\n",
    "\n",
    "non_vec = end - start\n",
    "\n",
    "print(\"Time [sec] (non-vectorized): {0:.3f}\".format(non_vec))"
   ]
  },
  {
   "cell_type": "code",
   "execution_count": 34,
   "metadata": {},
   "outputs": [
    {
     "name": "stdout",
     "output_type": "stream",
     "text": [
      "Time [sec] (vectorized): 0.003\n"
     ]
    }
   ],
   "source": [
    "start = time.time()\n",
    "\n",
    "b = np.dot(a, a)\n",
    "\n",
    "end = time.time()\n",
    "\n",
    "vec = end - start\n",
    "\n",
    "print(\"Time [sec] (vectorized): {0:.3f}\".format(vec))"
   ]
  },
  {
   "cell_type": "code",
   "execution_count": 35,
   "metadata": {},
   "outputs": [
    {
     "name": "stdout",
     "output_type": "stream",
     "text": [
      "The vectorized code is 1435.786 times faster than the nonvectorized code.\n"
     ]
    }
   ],
   "source": [
    "print(\"The vectorized code is {0:.3f} times faster than the nonvectorized code.\".format(non_vec/vec))"
   ]
  },
  {
   "cell_type": "markdown",
   "metadata": {},
   "source": [
    "## 9\n",
    "**[10 points]** This exercise will walk through some basic numerical programming and probabilistic thinking exercises, two skills which are frequently use in machine learning for answering questions from our data.\n",
    "1. Synthesize $n=10^4$ normally distributed data points with mean $\\mu=2$ and a standard deviation of $\\sigma=1$. Call these observations from a random variable $X$, and call the vector of observations that you generate, $\\textbf{x}$.\n",
    "2. Calculate the mean and standard deviation of $\\textbf{x}$ to validate (1) and provide the result to a precision of four significant figures.\n",
    "3. Plot a histogram of the data in $\\textbf{x}$ with 30 bins\n",
    "4. What is the 90th percentile of $\\textbf{x}$? The 90th percentile is the value below which 90% of observations can be found.\n",
    "5. What is the 99th percentile of $\\textbf{x}$?\n",
    "6. Now synthesize $n=10^4$ normally distributed data points with mean $\\mu=0$ and a standard deviation of $\\sigma=3$. Call these observations from a random variable $Y$, and call the vector of observations that you generate, $\\textbf{y}$.\n",
    "7. Create a new figure and plot the histogram of the data in $\\textbf{y}$ on the same axes with the histogram of $\\textbf{x}$, so that both histograms can be seen and compared.\n",
    "8. Using the observations from $\\textbf{x}$ and $\\textbf{y}$, estimate $E[XY]$"
   ]
  },
  {
   "cell_type": "markdown",
   "metadata": {},
   "source": [
    "**ANSWER**"
   ]
  },
  {
   "cell_type": "markdown",
   "metadata": {},
   "source": [
    "1.)"
   ]
  },
  {
   "cell_type": "code",
   "execution_count": 36,
   "metadata": {},
   "outputs": [],
   "source": [
    "x =(np.random.randn(10**4))+2"
   ]
  },
  {
   "cell_type": "markdown",
   "metadata": {},
   "source": [
    "2.)"
   ]
  },
  {
   "cell_type": "code",
   "execution_count": 37,
   "metadata": {},
   "outputs": [
    {
     "name": "stdout",
     "output_type": "stream",
     "text": [
      "The mean is 1.995\n",
      "The standard deviation is 1.002\n"
     ]
    }
   ],
   "source": [
    "print(\"The mean is {0:.3f}\".format(x.mean()))\n",
    "print(\"The standard deviation is {0:.3f}\".format(x.std()))"
   ]
  },
  {
   "cell_type": "markdown",
   "metadata": {},
   "source": [
    "3.)"
   ]
  },
  {
   "cell_type": "code",
   "execution_count": 38,
   "metadata": {},
   "outputs": [],
   "source": [
    "import matplotlib.pyplot as plt"
   ]
  },
  {
   "cell_type": "code",
   "execution_count": 39,
   "metadata": {},
   "outputs": [
    {
     "data": {
      "image/png": "[encoded data removed]",
      "text/plain": [
       "<Figure size 700x500 with 1 Axes>"
      ]
     },
     "metadata": {
      "needs_background": "light"
     },
     "output_type": "display_data"
    }
   ],
   "source": [
    "plt.figure(figsize=(7,5), dpi= 100)\n",
    "plt.hist(x, bins=30)\n",
    "plt.title(\"Distribution of Data for x\")\n",
    "plt.xlabel(\"Value\")\n",
    "plt.ylabel(\"Frequency\")\n",
    "plt.show()"
   ]
  },
  {
   "cell_type": "markdown",
   "metadata": {},
   "source": [
    "4.)"
   ]
  },
  {
   "cell_type": "code",
   "execution_count": 40,
   "metadata": {},
   "outputs": [
    {
     "name": "stdout",
     "output_type": "stream",
     "text": [
      "The 90th percentile of x is a value of 3.279\n"
     ]
    }
   ],
   "source": [
    "print(\"The 90th percentile of x is a value of {0:.3f}\".format(np.percentile(x, 90)))"
   ]
  },
  {
   "cell_type": "markdown",
   "metadata": {},
   "source": [
    "5.)"
   ]
  },
  {
   "cell_type": "code",
   "execution_count": 41,
   "metadata": {},
   "outputs": [
    {
     "name": "stdout",
     "output_type": "stream",
     "text": [
      "The 99th percentile of x is a value of 4.332\n"
     ]
    }
   ],
   "source": [
    "print(\"The 99th percentile of x is a value of {0:.3f}\".format(np.percentile(x, 99)))"
   ]
  },
  {
   "cell_type": "markdown",
   "metadata": {},
   "source": [
    "6.)"
   ]
  },
  {
   "cell_type": "code",
   "execution_count": 42,
   "metadata": {},
   "outputs": [],
   "source": [
    "y = np.random.normal(loc= 0, scale= 3, size= 10**4)"
   ]
  },
  {
   "cell_type": "markdown",
   "metadata": {},
   "source": [
    "7.)"
   ]
  },
  {
   "cell_type": "code",
   "execution_count": 43,
   "metadata": {},
   "outputs": [
    {
     "data": {
      "image/png": "[encoded data removed]",
      "text/plain": [
       "<Figure size 700x500 with 1 Axes>"
      ]
     },
     "metadata": {
      "needs_background": "light"
     },
     "output_type": "display_data"
    }
   ],
   "source": [
    "plt.figure(figsize=(7,5), dpi= 100)\n",
    "plt.hist(y, bins=30, alpha=0.5, label=\"y\")\n",
    "plt.hist(x, bins=30, alpha=0.5, label=\"x\")\n",
    "plt.title(\"Overlayed Distribution of Data for x and y\")\n",
    "plt.xlabel(\"Value\")\n",
    "plt.ylabel(\"Frequency\")\n",
    "plt.legend(loc='upper right')\n",
    "plt.show()"
   ]
  },
  {
   "cell_type": "markdown",
   "metadata": {},
   "source": [
    "8.)"
   ]
  },
  {
   "cell_type": "code",
   "execution_count": 44,
   "metadata": {},
   "outputs": [
    {
     "name": "stdout",
     "output_type": "stream",
     "text": [
      "E[XY] = -0.04763\n"
     ]
    }
   ],
   "source": [
    "E = x.mean() * y.mean()\n",
    "\n",
    "print(\"E[XY] = {:0.5f}\".format(E))"
   ]
  },
  {
   "cell_type": "markdown",
   "metadata": {},
   "source": [
    "# Version Control via Git"
   ]
  },
  {
   "cell_type": "markdown",
   "metadata": {},
   "source": [
    "## 10\n",
    "**[4 points]** Git is efficient for collaboration, and expectation in industry, and one of the best ways to share results in academia. You can even use some Git repositories (e.g. Github) as hosts for website, such as with the [course website](https://kylebradbury.github.io/ids705/index.html). As a data scientist with experience in machine learning, Git is expected. We will interact with Git repositories (a.k.a. repos) throughout this course, and your project will require the use of git repos for collaboration.\n",
    "\n",
    "Complete the [Atlassian Git tutorial](https://www.atlassian.com/git/tutorials/what-is-version-control), specifically the following listed sections. Try each concept that's presented. For this tutorial, instead of using BitBucket as your remote repository host, you may use your preferred platform such as [Github](https://github.com/) or [Duke's Gitlab](https://gitlab.oit.duke.edu/users/sign_in).\n",
    "1. [What is version control](https://www.atlassian.com/git/tutorials/what-is-version-control)\n",
    "2. [What is Git](https://www.atlassian.com/git/tutorials/what-is-git)\n",
    "3. [Install Git](https://www.atlassian.com/git/tutorials/install-git)\n",
    "4. [Setting up a repository](https://www.atlassian.com/git/tutorials/install-git)\n",
    "5. [Saving changes](https://www.atlassian.com/git/tutorials/saving-changes)\n",
    "6. [Inspecting a repository](https://www.atlassian.com/git/tutorials/inspecting-a-repository)\n",
    "7. [Undoing changes](https://www.atlassian.com/git/tutorials/undoing-changes)\n",
    "8. [Rewriting history](https://www.atlassian.com/git/tutorials/rewriting-history)\n",
    "9. [Syncing](https://www.atlassian.com/git/tutorials/syncing)\n",
    "10. [Making a pull request](https://www.atlassian.com/git/tutorials/making-a-pull-request)\n",
    "11. [Using branches](https://www.atlassian.com/git/tutorials/using-branches)\n",
    "12. [Comparing workflows](https://www.atlassian.com/git/tutorials/comparing-workflows)\n",
    "\n",
    "I also have created two videos on the topic to help you understand some of these concepts: [Git basics](https://www.youtube.com/watch?v=fBCwfoBr2ng) and a [step-by-step tutorial](https://www.youtube.com/watch?v=nH7qJHx-h5s).\n",
    "\n",
    "For your answer, affirm that you *either* completed the tutorials above OR have previous experience with ALL of the concepts above. Confirm this by typing your name below and selecting the situation that applies from the two options in brackets."
   ]
  },
  {
   "cell_type": "markdown",
   "metadata": {},
   "source": [
    "**ANSWER**\n",
    "\n",
    "*I, Sydney Donati-Leach, affirm that I have previous experience that covers all the content in this tutorial*"
   ]
  },
  {
   "cell_type": "markdown",
   "metadata": {},
   "source": [
    "# Exploratory Data Analysis\n",
    "## 11\n",
    "**[20 points]** Here you'll bring together some of the individual skills that you demonstrated above and create a Jupyter notebook based blog post on your exploratory data analysis. Your goal is to identify a question or problem and to work towards solving it or providing additional information or evidence (data) related to it through your data analysis. Below, we walk through a process to follow for your analysis. Additionally, you can find an [example of a well-done exploratory data analysis here from past years](https://github.com/kylebradbury/ids705/blob/master/assignments/Assignment_1_Q11_Example.ipynb).\n",
    "\n",
    "1. Find a dataset that interests you and relates to a question or problem that you find intriguing.\n",
    "2. Describe the dataset, the source of the data, and the reason the dataset was of interest. What question are you hoping to answer through exploring the dataset?\n",
    "3. Check the data and see if they need to be cleaned: are there missing values? Are there clearly erroneous values? Do two tables need to be merged together? Clean the data so it can be visualized. If the data are clean, state how you know they are clean (what did you check?).\n",
    "3. Plot the data, demonstrating interesting features that you discover. Are there any relationships between variables that were surprising or patterns that emerged? Please exercise creativity and curiosity in your plots. You should have at least a ~3 plots exploring the data in different ways.\n",
    "4. What insights are you able to take away from exploring the data? Is there a reason why analyzing the dataset you chose is particularly interesting or important? Summarize this for a general audience (imagine your publishing a blog post online) - boil down your findings in a way that is accessible, but still accurate.\n",
    "\n",
    "Here your analysis will evaluated based on:\n",
    "1. Motivation: was the purpose of the choice of data clearly articulated? Why was the dataset chosen and what was the goal of the analysis?\n",
    "2. Data cleaning: were any issues with the data investigated and, if found, were they resolved?\n",
    "3. Quality of data exploration: were at least 4 unique plots (minimum) included and did those plots demonstrate interesting aspects of the data? Was there a clear purpose and takeaway from EACH plot? \n",
    "4. Interpretation: Were the insights revealed through the analysis and their potential implications clearly explained? Was there an overall conclusion to the analysis?"
   ]
  },
  {
   "cell_type": "markdown",
   "metadata": {},
   "source": [
    "**ANSWER**"
   ]
  },
  {
   "cell_type": "markdown",
   "metadata": {},
   "source": [
    "### 1.) Motivation"
   ]
  },
  {
   "cell_type": "markdown",
   "metadata": {},
   "source": [
    "I spent 10 years in the Denver area, from sophomore year of high school, to my undergraduate degree at the University of Denver, to my job in downtown Denver for 3 years. I love the city and consider it to be \"home\" because all my friends and family live there.  Now that I'm living in Durham, a lot of people are asking me where I want to live after I graduate.  Will I stay in North Carolina or will I want to go back to Colorado? Honestly, it will depend on a lot of different variables like if I get a job in either state, my salary/cost of living, and if I'll have to move or if it will be remote.  If I get an offer to work an in-person job in both Denver and Raleigh for example, how would I decide? Well something very important to me is safety as I am quite risk averse. I would like to look at crime in Denver versus crime in Raleigh and determine in which city it would be safer for me to live. \n",
    "\n",
    "I found a crime dataset for the city of Denver:\n",
    "https://www.denvergov.org/opendata/dataset/city-and-county-of-denver-crime \\\n",
    "I found a very similar crime dataset for the city of Raleigh:\n",
    "https://data-ral.opendata.arcgis.com/datasets/raleigh-police-incidents-nibrs/explore?location=35.786021%2C-78.643000%2C11.59&showTable=true \n",
    "\n",
    "These datasets are very similar in that each row of the data represents a unique crime and has a unique key identifier.  Both datasets have the date in which the crime occured, as well as a general classification of what kind of crime it was.  These are broken up into different categories, and not all of the categories are the same between the two datasets.  I will match the categories as best I can to gain a deeper insight into the crime that occurs in each city.  An additional point of consideration is that Raleigh and Denver do not have the same populations.  It would not be surprising to see that Denver has more crime purely because it is a larger city.  Therefore, I will account for this by using the median population (2017-2021) for each city to calculate the crimes per capita.\n",
    "\n",
    "I will determine which city has lower crime overall by comparing crimes per capita across years and across categories. I will use historical knowledge and policy changes to understand the context behind any differences we see between the two cities."
   ]
  },
  {
   "cell_type": "markdown",
   "metadata": {},
   "source": [
    "### 2.) Data Cleaning"
   ]
  },
  {
   "cell_type": "code",
   "execution_count": 45,
   "metadata": {},
   "outputs": [],
   "source": [
    "import pandas as pd\n",
    "import numpy as np\n",
    "import warnings\n",
    "warnings.filterwarnings('ignore')"
   ]
  },
  {
   "cell_type": "code",
   "execution_count": 46,
   "metadata": {},
   "outputs": [],
   "source": [
    "denver = pd.read_csv(\"/mnt/c/Users/sdona/Documents/Duke/22Spring/705IDS/\"\n",
    "    \"Assignments/01Assignment/crime.csv\")\n",
    "raleigh = pd.read_csv(\"/mnt/c/Users/sdona/Documents/Duke/22Spring/705IDS/\"\n",
    "    \"Assignments/01Assignment/Raleigh_Police_Incidents_(NIBRS).csv\")"
   ]
  },
  {
   "cell_type": "code",
   "execution_count": 47,
   "metadata": {},
   "outputs": [
    {
     "name": "stdout",
     "output_type": "stream",
     "text": [
      "False\n",
      "False\n",
      "False\n",
      "False\n"
     ]
    }
   ],
   "source": [
    "# check to see if there are any null values in the columns we'll be using\n",
    "print(denver.OFFENSE_CATEGORY_ID.isna().any())\n",
    "print(denver.REPORTED_DATE.isna().any())\n",
    "print(raleigh.crime_category.isna().any())\n",
    "print(raleigh.reported_year.isna().any())"
   ]
  },
  {
   "cell_type": "code",
   "execution_count": 48,
   "metadata": {},
   "outputs": [],
   "source": [
    "# create a new column to pull out year in Denver data\n",
    "denver['YEAR'] = pd.DatetimeIndex(denver['REPORTED_DATE']).year"
   ]
  },
  {
   "cell_type": "code",
   "execution_count": 49,
   "metadata": {},
   "outputs": [],
   "source": [
    "# create new column we'll use to count the number of rows\n",
    "denver['FREQ'] = 1\n",
    "raleigh['freq'] = 1"
   ]
  },
  {
   "cell_type": "code",
   "execution_count": 50,
   "metadata": {},
   "outputs": [],
   "source": [
    "# narrow down the Raleigh offenses to the ones also in Denver data\n",
    "crimes = ['ALL OTHER OFFENSES','ARSON','BURGLARY/COMMERCIAL', \n",
    "'BURGLARY/RESIDENTIAL', 'DISORDERLY CONDUCT'\n",
    ",'DRUG VIOLATIONS', 'DRUGS','LARCENY','LARCENY FROM MV','MURDER'\n",
    ",'MV THEFT','ROBBERY','TRAFFIC']\n",
    "# couldn't appropriately match these Denver categories:\n",
    "    # aggravated-assault\n",
    "    # other-crimes-against-persons\n",
    "    # sexual-assault\n",
    "    # white-collar-crime\n",
    "raleigh_crimes = raleigh[raleigh['crime_category'].isin(crimes)]"
   ]
  },
  {
   "cell_type": "code",
   "execution_count": 51,
   "metadata": {},
   "outputs": [],
   "source": [
    "# map the categories to one another for merging later\n",
    "raleigh_crimes.replace({'ALL OTHER OFFENSES': 'all-other-crimes'\n",
    ", 'ARSON': 'arson', \n",
    "'BURGLARY/COMMERCIAL':'burglary', 'BURGLARY/RESIDENTIAL':'burglary'\n",
    ", 'DISORDERLY CONDUCT':'public-disorder',\n",
    "'DRUG VIOLATIONS':'drug-alcohol', 'DRUGS':'drug-alcohol'\n",
    ", 'LARCENY':'larceny', \n",
    "'LARCENY FROM MV':'theft-from-motor-vehicle', 'MURDER':'murder'\n",
    ", 'MV THEFT':'auto-theft', \n",
    "'ROBBERY':'robbery', 'TRAFFIC':'traffic-accident'}, inplace=True)\n",
    "# left with 11 total offense categories"
   ]
  },
  {
   "cell_type": "code",
   "execution_count": 52,
   "metadata": {},
   "outputs": [],
   "source": [
    "# count the frequency of each crime type for each year\n",
    "den_crime_freq = denver[['OFFENSE_CATEGORY_ID','YEAR','FREQ']\n",
    "    ].groupby(['OFFENSE_CATEGORY_ID','YEAR'],as_index=False).sum('FREQ')\n",
    "ral_crime_freq = raleigh_crimes[['crime_category','reported_year','freq']\n",
    "    ].groupby(['crime_category','reported_year'],as_index=False).sum('freq')"
   ]
  },
  {
   "cell_type": "code",
   "execution_count": 53,
   "metadata": {},
   "outputs": [
    {
     "name": "stdout",
     "output_type": "stream",
     "text": [
      "(array([2017, 2018, 2019, 2020, 2021, 2022]), array([15, 15, 15, 15, 15, 15]))\n",
      "(array([2014, 2015, 2016, 2017, 2018, 2019, 2020, 2021, 2022]), array([11, 11, 11, 11, 11, 11, 11, 11, 11]))\n"
     ]
    }
   ],
   "source": [
    "# ensure each crime type has data in each year\n",
    "print(np.unique(den_crime_freq['YEAR'],return_counts=True))\n",
    "print(np.unique(ral_crime_freq['reported_year'],return_counts=True))"
   ]
  },
  {
   "cell_type": "code",
   "execution_count": 54,
   "metadata": {},
   "outputs": [],
   "source": [
    "# don't look at 2022 data as it isn't complete yet, and get \n",
    "# matching years between the datasets\n",
    "years = [2017, 2018, 2019, 2020, 2021]\n",
    "den_crime_17_21 = den_crime_freq[den_crime_freq['YEAR'\n",
    "    ].isin(years)]\n",
    "ral_crime_17_21 = ral_crime_freq[ral_crime_freq['reported_year'\n",
    "    ].isin(years)]"
   ]
  },
  {
   "cell_type": "code",
   "execution_count": 55,
   "metadata": {},
   "outputs": [
    {
     "name": "stdout",
     "output_type": "stream",
     "text": [
      "Total crimes in Denver 2017-2021:  455018\n",
      "Total crimes in Raleigh 2017-2021:  102759\n"
     ]
    }
   ],
   "source": [
    "print(\"Total crimes in Denver 2017-2021: \", \n",
    "    str(den_crime_17_21.FREQ.sum()))\n",
    "print(\"Total crimes in Raleigh 2017-2021: \", \n",
    "    str(ral_crime_17_21.freq.sum()))"
   ]
  },
  {
   "cell_type": "code",
   "execution_count": 56,
   "metadata": {},
   "outputs": [],
   "source": [
    "# add the populations of each city in 2019 (pulled from google)\n",
    "den_crime_17_21['den_pop'] = 705576  \n",
    "ral_crime_17_21['ral_pop'] = 464485"
   ]
  },
  {
   "cell_type": "code",
   "execution_count": 57,
   "metadata": {},
   "outputs": [],
   "source": [
    "# calculate the crimes per capita for each city\n",
    "den_crime_17_21['den_crimes_per_cap'] = den_crime_17_21['FREQ'\n",
    "    ]/den_crime_17_21['den_pop']\n",
    "ral_crime_17_21['ral_crimes_per_cap'] = ral_crime_17_21['freq'\n",
    "    ]/ral_crime_17_21['ral_pop']"
   ]
  },
  {
   "cell_type": "code",
   "execution_count": 58,
   "metadata": {},
   "outputs": [],
   "source": [
    "# merge the data to compare\n",
    "merged_crime_17_21 = pd.merge(ral_crime_17_21, den_crime_17_21, \n",
    "    how=\"inner\", left_on=['crime_category','reported_year'\n",
    "    ], right_on=['OFFENSE_CATEGORY_ID','YEAR'])"
   ]
  },
  {
   "cell_type": "code",
   "execution_count": 59,
   "metadata": {},
   "outputs": [],
   "source": [
    "# sum all the frequencies across all the years\n",
    "den_cat_crime_freq = den_crime_17_21[['OFFENSE_CATEGORY_ID'\n",
    "    ,'FREQ','den_pop']].groupby(['OFFENSE_CATEGORY_ID','den_pop'\n",
    "    ],as_index=False).sum('FREQ')\n",
    "ral_cat_crime_freq = ral_crime_17_21[['crime_category','freq',\n",
    "    'ral_pop']].groupby(['crime_category','ral_pop'\n",
    "    ],as_index=False).sum('freq')"
   ]
  },
  {
   "cell_type": "code",
   "execution_count": 60,
   "metadata": {},
   "outputs": [],
   "source": [
    "# create second merged data to compare crime categories across all the years\n",
    "cat_merged_crime = pd.merge(den_cat_crime_freq, ral_cat_crime_freq, \n",
    "    how=\"inner\", left_on='OFFENSE_CATEGORY_ID', right_on='crime_category')"
   ]
  },
  {
   "cell_type": "code",
   "execution_count": 61,
   "metadata": {},
   "outputs": [],
   "source": [
    "# calculate the crimes per capita for each city\n",
    "cat_merged_crime['den_crimes_per_cap'] = cat_merged_crime['FREQ'\n",
    "    ]/cat_merged_crime['den_pop']\n",
    "cat_merged_crime['ral_crimes_per_cap'] = cat_merged_crime['freq'\n",
    "    ]/cat_merged_crime['ral_pop']"
   ]
  },
  {
   "cell_type": "code",
   "execution_count": 62,
   "metadata": {},
   "outputs": [],
   "source": [
    "# sum all the frequencies across all the categories\n",
    "den_total_crime_freq = den_crime_17_21[['FREQ','den_pop','YEAR']\n",
    "    ].groupby(['YEAR','den_pop'],as_index=False).sum('FREQ')\n",
    "ral_total_crime_freq = ral_crime_17_21[['freq','ral_pop','reported_year']\n",
    "    ].groupby(['reported_year','ral_pop'],as_index=False).sum('freq')"
   ]
  },
  {
   "cell_type": "code",
   "execution_count": 63,
   "metadata": {},
   "outputs": [],
   "source": [
    "# create third merged data to compare total crime across \n",
    "# all the categories\n",
    "total_merged_crime = pd.merge(den_total_crime_freq, ral_total_crime_freq,\n",
    "     how=\"inner\", left_on='YEAR', right_on='reported_year')"
   ]
  },
  {
   "cell_type": "code",
   "execution_count": 64,
   "metadata": {},
   "outputs": [],
   "source": [
    "# calculate the crimes per capita for each city\n",
    "total_merged_crime['den_crimes_per_cap'] = total_merged_crime['FREQ'\n",
    "    ]/total_merged_crime['den_pop']\n",
    "total_merged_crime['ral_crimes_per_cap']= total_merged_crime['freq'\n",
    "    ]/total_merged_crime['ral_pop']"
   ]
  },
  {
   "cell_type": "markdown",
   "metadata": {},
   "source": [
    "### 3.) Data Exploration"
   ]
  },
  {
   "cell_type": "code",
   "execution_count": 65,
   "metadata": {},
   "outputs": [],
   "source": [
    "# convert year to string for graphical purposes\n",
    "total_merged_crime.reported_year = total_merged_crime.reported_year.astype(str)"
   ]
  },
  {
   "cell_type": "code",
   "execution_count": 66,
   "metadata": {},
   "outputs": [
    {
     "data": {
      "image/png": "[encoded data removed]",
      "text/plain": [
       "<Figure size 432x288 with 1 Axes>"
      ]
     },
     "metadata": {
      "needs_background": "light"
     },
     "output_type": "display_data"
    }
   ],
   "source": [
    "den_crime = total_merged_crime['den_crimes_per_cap']\n",
    "ral_crime = total_merged_crime['ral_crimes_per_cap']\n",
    "\n",
    "plt.plot(total_merged_crime['reported_year'], den_crime, label='Denver')\n",
    "plt.plot(total_merged_crime['reported_year'], ral_crime,  label='Raleigh')\n",
    "plt.title('All Crimes per Capita in Denver & Raleigh Over Time')\n",
    "plt.xlabel('Year')\n",
    "plt.ylabel('Crimes per Capita')\n",
    "plt.legend()\n",
    "\n",
    "plt.show()"
   ]
  },
  {
   "cell_type": "markdown",
   "metadata": {},
   "source": [
    "It looks like Denver has more crimes per capita than Raleigh.  However, it's possible that some categories are more prevalent than others and could be pulling up the overall average."
   ]
  },
  {
   "cell_type": "code",
   "execution_count": 67,
   "metadata": {},
   "outputs": [
    {
     "data": {
      "image/png": "[encoded data removed]",
      "text/plain": [
       "<Figure size 432x288 with 1 Axes>"
      ]
     },
     "metadata": {
      "needs_background": "light"
     },
     "output_type": "display_data"
    }
   ],
   "source": [
    "labels = cat_merged_crime['OFFENSE_CATEGORY_ID']\n",
    "den = cat_merged_crime['den_crimes_per_cap']\n",
    "ral = cat_merged_crime['ral_crimes_per_cap']\n",
    "\n",
    "x = np.arange(len(labels))  # the label locations\n",
    "width = 0.39  # the width of the bars\n",
    "\n",
    "fig, ax = plt.subplots()\n",
    "rects1 = ax.bar(x - width/2, den, width, label='Denver')\n",
    "rects2 = ax.bar(x + width/2, ral, width, label='Raleigh')\n",
    "\n",
    "ax.set_xlabel('Crime Category')\n",
    "ax.set_ylabel('Crimes per Capita')\n",
    "ax.set_title('Crimes per Capita in Denver & Raleigh 2017-2021')\n",
    "ax.set_xticks(x, labels, rotation=90)\n",
    "ax.legend()\n",
    "\n",
    "plt.show()"
   ]
  },
  {
   "cell_type": "markdown",
   "metadata": {},
   "source": [
    "Denver has higher crime per capita in all categories except for drug/alcohol.  Traffic accidents are significantly higher in Denver than Raleigh, and drug/alchohol crimes are higher in Raleigh than Denver. Let's dive into each of these categories individually."
   ]
  },
  {
   "cell_type": "code",
   "execution_count": 68,
   "metadata": {},
   "outputs": [],
   "source": [
    "# convert year to string for graphical purposes\n",
    "merged_crime_17_21.reported_year = merged_crime_17_21.reported_year.astype(str)"
   ]
  },
  {
   "cell_type": "code",
   "execution_count": 69,
   "metadata": {},
   "outputs": [],
   "source": [
    "traffic = merged_crime_17_21[merged_crime_17_21['crime_category'\n",
    "    ] == 'traffic-accident']"
   ]
  },
  {
   "cell_type": "code",
   "execution_count": 70,
   "metadata": {},
   "outputs": [
    {
     "data": {
      "image/png": "[encoded data removed]",
      "text/plain": [
       "<Figure size 432x288 with 1 Axes>"
      ]
     },
     "metadata": {
      "needs_background": "light"
     },
     "output_type": "display_data"
    }
   ],
   "source": [
    "den_traffic = traffic['den_crimes_per_cap']\n",
    "ral_traffic = traffic['ral_crimes_per_cap']\n",
    "\n",
    "plt.plot(traffic['reported_year'], den_traffic, label='Denver')\n",
    "plt.plot(traffic['reported_year'], ral_traffic,  label='Raleigh')\n",
    "plt.title('Traffic Crimes per Capita in Denver & Raleigh Over Time')\n",
    "plt.xlabel('Year')\n",
    "plt.ylabel('Crimes per Capita')\n",
    "plt.legend()\n",
    "\n",
    "plt.show()"
   ]
  },
  {
   "cell_type": "markdown",
   "metadata": {},
   "source": [
    "Traffic crimes have been at a steadily low rate in Raleigh across all the years, whereas Denver has been higher with a slight drop in 2020."
   ]
  },
  {
   "cell_type": "code",
   "execution_count": 71,
   "metadata": {},
   "outputs": [],
   "source": [
    "drug_alc = merged_crime_17_21[merged_crime_17_21['crime_category'\n",
    "    ] == 'drug-alcohol']"
   ]
  },
  {
   "cell_type": "code",
   "execution_count": 72,
   "metadata": {},
   "outputs": [
    {
     "data": {
      "image/png": "[encoded data removed]",
      "text/plain": [
       "<Figure size 432x288 with 1 Axes>"
      ]
     },
     "metadata": {
      "needs_background": "light"
     },
     "output_type": "display_data"
    }
   ],
   "source": [
    "den_drug_alc = drug_alc['den_crimes_per_cap']\n",
    "ral_drug_alc = drug_alc['ral_crimes_per_cap']\n",
    "\n",
    "plt.plot(drug_alc['reported_year'], den_drug_alc, label='Denver')\n",
    "plt.plot(drug_alc['reported_year'], ral_drug_alc,  label='Raleigh')\n",
    "plt.title('Drug/Alcohol Crimes per Capita in Denver & Raleigh Over Time')\n",
    "plt.xlabel('Year')\n",
    "plt.ylabel('Crimes per Capita')\n",
    "plt.legend()\n",
    "\n",
    "plt.show()"
   ]
  },
  {
   "cell_type": "markdown",
   "metadata": {},
   "source": [
    "Both Raleigh and Denver see a decrease in drug/alcohol crimes in 2020, with Denver having a very low rate in both 2020 and 2021."
   ]
  },
  {
   "cell_type": "markdown",
   "metadata": {},
   "source": [
    "### 4.) Interpretation"
   ]
  },
  {
   "cell_type": "markdown",
   "metadata": {},
   "source": [
    "After accounting for differing population sizes, it appears that Raleigh is a safer place to live than Denver.  \n",
    "\n",
    "When we dive a bit deeper, we can see that Denver has a much higher rate of traffic accidents than Raleigh.  It's possible that there is some hidden bias in these numbers as larger cities tend to have more conjested highways, and therefore a higher liklihood of an accident occuring.  Diving into the infrastructure of each city is outside the scope of this report, but even if we removed this crime category, Denver has a higher crime rate for all the other categories as well, except for drug and alcohol.\n",
    "\n",
    "As far as drug and alcohol crimes are concerned, recreational marijuana was legalized in Colorado in 2012, and has dramatically shifted how the city handles crime related to it.  After 2012, all drug-related charges in Denver decreased by 23%, underlining how significant marijuana was in overall drug-related charges.  North Carolina has yet to legalize recreational marijuana, which could be the cause of the higher crime rates in only this category.\n",
    "\n",
    "Finally, it's important to point out that all crime decreased in both Denver and Raleigh in 2020.  This can most likely be attributed to Covid and the lockdowns that occured in both cities, which would naturally decrease the amount of crime with less people out in public.  \n",
    "\n",
    "Given this information, I will let my friends and family know that the 300 days of sunshine in Colorado isn't worth my safety and well-being, and Raleigh is the place to be."
   ]
  }
 ],
 "metadata": {
  "kernelspec": {
   "display_name": "Python 3 (ipykernel)",
   "language": "python",
   "name": "python3"
  },
  "language_info": {
   "codemirror_mode": {
    "name": "ipython",
    "version": 3
   },
   "file_extension": ".py",
   "mimetype": "text/x-python",
   "name": "python",
   "nbconvert_exporter": "python",
   "pygments_lexer": "ipython3",
   "version": "3.9.7"
  },
  "nteract": {
   "version": "0.28.0"
  },
  "varInspector": {
   "cols": {
    "lenName": 16,
    "lenType": 16,
    "lenVar": 40
   },
   "kernels_config": {
    "python": {
     "delete_cmd_postfix": "",
     "delete_cmd_prefix": "del ",
     "library": "var_list.py",
     "varRefreshCmd": "print(var_dic_list())"
    },
    "r": {
     "delete_cmd_postfix": ") ",
     "delete_cmd_prefix": "rm(",
     "library": "var_list.r",
     "varRefreshCmd": "cat(var_dic_list()) "
    }
   },
   "position": {
    "height": "643px",
    "left": "1548px",
    "right": "20px",
    "top": "121px",
    "width": "350px"
   },
   "types_to_exclude": [
    "module",
    "function",
    "builtin_function_or_method",
    "instance",
    "_Feature"
   ],
   "window_display": true
  }
 },
 "nbformat": 4,
 "nbformat_minor": 2
}
